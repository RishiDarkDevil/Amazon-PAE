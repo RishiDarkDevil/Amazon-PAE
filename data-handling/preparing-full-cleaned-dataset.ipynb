{
 "cells": [
  {
   "cell_type": "code",
   "execution_count": 2,
   "id": "aa06f04d",
   "metadata": {},
   "outputs": [],
   "source": [
    "import pickle"
   ]
  },
  {
   "cell_type": "code",
   "execution_count": 3,
   "id": "4a055695",
   "metadata": {},
   "outputs": [],
   "source": [
    "chunked_descs = pickle.load(open(f'../data/2023/temp-descs/chunked-train-descs-2023.pkl', 'rb'))"
   ]
  },
  {
   "cell_type": "code",
   "execution_count": 30,
   "id": "56c7d4c6",
   "metadata": {},
   "outputs": [],
   "source": [
    "chunked_titles = pickle.load(open(f'../data/2023/temp-titles/chunked-train-title-2023.pkl', 'rb'))"
   ]
  },
  {
   "cell_type": "code",
   "execution_count": 2,
   "id": "9ebecd36",
   "metadata": {},
   "outputs": [],
   "source": [
    "chunked_bps = pickle.load(open(f'../data/2023/temp-bps/chunked-train-bps-2023.pkl', 'rb'))"
   ]
  },
  {
   "cell_type": "code",
   "execution_count": null,
   "id": "c79fce79",
   "metadata": {},
   "outputs": [],
   "source": [
    "len(chunked_titles)"
   ]
  },
  {
   "cell_type": "code",
   "execution_count": 6,
   "id": "10166a53",
   "metadata": {},
   "outputs": [],
   "source": [
    "import pandas as pd"
   ]
  },
  {
   "cell_type": "code",
   "execution_count": 5,
   "id": "c0609c84",
   "metadata": {},
   "outputs": [
    {
     "name": "stderr",
     "output_type": "stream",
     "text": [
      "/var/folders/mg/l90d6s9536n6mfzjbqgrxffm0000gn/T/ipykernel_20529/2459251400.py:1: DtypeWarning: Columns (26,27,28,29,30,31,32,33,34,35,36,37,38,39,40,41,42,43,44,45,46,47,48,49,50,51,52,53,54,55,56,57,58,59,60,61,62,63,64,65,66,67,68,69,70,71,72,73,74,75,76,77,78,79,80,81,82,83,84,85,86,87,88,89,90,91,92,93,94,95,96,97,98,99,100,101,102,103,104,105,106,107,108,109,110,111,112,113,114,115,116,117,118,119,120,121,122,123,124,125,126,127,128,129,130,131,132,133,134,135,136,137,138,139,140,141,142,143,144,145,146,147,148,149,150,151,152,153,154,155,156,157,158,159,160,161,162,163,164,165,166,167,168,169,170,171,172,173,174,175,176,177,178,179,180,181,182,183,184,185,186,187,188,189,190,191,192,193,194,195,196,197,198) have mixed types. Specify dtype option on import or set low_memory=False.\n",
      "  data_titles = pd.read_csv('../data/2023/train-v2.csv')\n"
     ]
    }
   ],
   "source": [
    "data_titles = pd.read_csv('../data/2023/train-v2.csv')"
   ]
  },
  {
   "cell_type": "code",
   "execution_count": 6,
   "id": "fc952260",
   "metadata": {},
   "outputs": [],
   "source": [
    "data_titles = data_titles.fillna('')"
   ]
  },
  {
   "cell_type": "code",
   "execution_count": 8,
   "id": "a547a6d6",
   "metadata": {},
   "outputs": [],
   "source": [
    "data_titles = data_titles.iloc[:,5:].to_numpy().tolist()"
   ]
  },
  {
   "cell_type": "code",
   "execution_count": 9,
   "id": "bce67cff",
   "metadata": {},
   "outputs": [],
   "source": [
    "data_titles = pd.DataFrame([' . '.join([str(bp) for bp in bps if str(bp) != '']) for bps in data_titles])"
   ]
  },
  {
   "cell_type": "code",
   "execution_count": 10,
   "id": "fcf92384",
   "metadata": {},
   "outputs": [],
   "source": [
    "data_titles = data_titles[~data_titles.iloc[:,0].isin([''])]"
   ]
  },
  {
   "cell_type": "code",
   "execution_count": 12,
   "id": "e36fc0f6",
   "metadata": {},
   "outputs": [],
   "source": [
    "non_skip_idxs = data_titles.index.to_list()"
   ]
  },
  {
   "cell_type": "code",
   "execution_count": 24,
   "id": "123b30e5",
   "metadata": {},
   "outputs": [],
   "source": [
    "chunked_bps_exp = list()"
   ]
  },
  {
   "cell_type": "code",
   "execution_count": 19,
   "id": "3c846c0a",
   "metadata": {},
   "outputs": [],
   "source": [
    "dd = pd.read_csv('../data/2023/train.csv', usecols=['TITLE'])"
   ]
  },
  {
   "cell_type": "code",
   "execution_count": 15,
   "id": "cd0f7139",
   "metadata": {},
   "outputs": [
    {
     "data": {
      "text/plain": [
       "1412322"
      ]
     },
     "execution_count": 15,
     "metadata": {},
     "output_type": "execute_result"
    }
   ],
   "source": [
    "len(chunked_bps)"
   ]
  },
  {
   "cell_type": "code",
   "execution_count": 16,
   "id": "377fc7c2",
   "metadata": {},
   "outputs": [
    {
     "data": {
      "text/plain": [
       "0"
      ]
     },
     "execution_count": 16,
     "metadata": {},
     "output_type": "execute_result"
    }
   ],
   "source": [
    "len(chunked_bps_exp)"
   ]
  },
  {
   "cell_type": "code",
   "execution_count": 5,
   "id": "8ee9107c",
   "metadata": {},
   "outputs": [],
   "source": [
    "from tqdm import tqdm"
   ]
  },
  {
   "cell_type": "code",
   "execution_count": 21,
   "id": "d10af81d",
   "metadata": {},
   "outputs": [
    {
     "data": {
      "text/plain": [
       "1412322"
      ]
     },
     "execution_count": 21,
     "metadata": {},
     "output_type": "execute_result"
    }
   ],
   "source": [
    "i"
   ]
  },
  {
   "cell_type": "code",
   "execution_count": 25,
   "id": "8a445c38",
   "metadata": {},
   "outputs": [
    {
     "name": "stderr",
     "output_type": "stream",
     "text": [
      "100%|████████████████████████████| 2249698/2249698 [00:02<00:00, 1000552.70it/s]\n"
     ]
    }
   ],
   "source": [
    "k = p = 0\n",
    "for i in tqdm(range(dd.shape[0])):\n",
    "  if i == non_skip_idxs[k]:\n",
    "    chunked_bps_exp.append(chunked_bps[k])\n",
    "    k += 1\n",
    "  else:\n",
    "    chunked_bps_exp.append(None)\n",
    "    p += 1"
   ]
  },
  {
   "cell_type": "code",
   "execution_count": 27,
   "id": "b70ad897",
   "metadata": {},
   "outputs": [
    {
     "data": {
      "text/plain": [
       "2249698"
      ]
     },
     "execution_count": 27,
     "metadata": {},
     "output_type": "execute_result"
    }
   ],
   "source": [
    "dd.shape[0]"
   ]
  },
  {
   "cell_type": "code",
   "execution_count": 26,
   "id": "e7368328",
   "metadata": {},
   "outputs": [
    {
     "data": {
      "text/plain": [
       "2249698"
      ]
     },
     "execution_count": 26,
     "metadata": {},
     "output_type": "execute_result"
    }
   ],
   "source": [
    "len(chunked_bps_exp)"
   ]
  },
  {
   "cell_type": "code",
   "execution_count": 7,
   "id": "65012d6b",
   "metadata": {},
   "outputs": [],
   "source": [
    "dd = pd.read_csv('../data/2023/train-v2.csv', usecols=['DESCRIPTION'])"
   ]
  },
  {
   "cell_type": "code",
   "execution_count": 12,
   "id": "f6e48d38",
   "metadata": {},
   "outputs": [],
   "source": [
    "dd = dd.fillna('')"
   ]
  },
  {
   "cell_type": "code",
   "execution_count": 13,
   "id": "50ccc16d",
   "metadata": {},
   "outputs": [],
   "source": [
    "data = dd[~dd.iloc[:,0].isin([''])]"
   ]
  },
  {
   "cell_type": "code",
   "execution_count": 15,
   "id": "a1fe4602",
   "metadata": {},
   "outputs": [],
   "source": [
    "non_skip_idxs = data.index.to_list()"
   ]
  },
  {
   "cell_type": "code",
   "execution_count": 9,
   "id": "17a6fb5e",
   "metadata": {},
   "outputs": [
    {
     "data": {
      "text/plain": [
       "2249698"
      ]
     },
     "execution_count": 9,
     "metadata": {},
     "output_type": "execute_result"
    }
   ],
   "source": [
    "dd.shape[0]"
   ]
  },
  {
   "cell_type": "code",
   "execution_count": 8,
   "id": "d7ecc086",
   "metadata": {},
   "outputs": [
    {
     "data": {
      "text/plain": [
       "1092187"
      ]
     },
     "execution_count": 8,
     "metadata": {},
     "output_type": "execute_result"
    }
   ],
   "source": [
    "len(chunked_descs)"
   ]
  },
  {
   "cell_type": "code",
   "execution_count": 18,
   "id": "9fb7dd32",
   "metadata": {},
   "outputs": [],
   "source": [
    "chunked_descs_exp = list()"
   ]
  },
  {
   "cell_type": "code",
   "execution_count": 19,
   "id": "c797d079",
   "metadata": {},
   "outputs": [
    {
     "name": "stderr",
     "output_type": "stream",
     "text": [
      "100%|████████████████████████████| 2249698/2249698 [00:02<00:00, 1099128.28it/s]\n"
     ]
    }
   ],
   "source": [
    "k = p = 0\n",
    "for i in tqdm(range(dd.shape[0])):\n",
    "  if i == non_skip_idxs[k]:\n",
    "    chunked_descs_exp.append(chunked_descs[k])\n",
    "    k += 1\n",
    "  else:\n",
    "    chunked_descs_exp.append(None)\n",
    "    p += 1"
   ]
  },
  {
   "cell_type": "code",
   "execution_count": 20,
   "id": "3a5f98af",
   "metadata": {},
   "outputs": [
    {
     "data": {
      "text/plain": [
       "2249698"
      ]
     },
     "execution_count": 20,
     "metadata": {},
     "output_type": "execute_result"
    }
   ],
   "source": [
    "len(chunked_descs_exp)"
   ]
  },
  {
   "cell_type": "code",
   "execution_count": 31,
   "id": "a701e73a",
   "metadata": {},
   "outputs": [],
   "source": [
    "data_tit_bps = pd.DataFrame({\n",
    "  'TITLE': chunked_titles,\n",
    "  'BPS': chunked_bps_exp\n",
    "})"
   ]
  },
  {
   "cell_type": "code",
   "execution_count": 22,
   "id": "0370c08e",
   "metadata": {},
   "outputs": [],
   "source": [
    "from datasets import Dataset"
   ]
  },
  {
   "cell_type": "code",
   "execution_count": 35,
   "id": "03412b2c",
   "metadata": {},
   "outputs": [],
   "source": [
    "data_tit_bps_hf = Dataset.from_pandas(data_tit_bps)"
   ]
  },
  {
   "cell_type": "code",
   "execution_count": 36,
   "id": "ac8c1c3f",
   "metadata": {},
   "outputs": [
    {
     "data": {
      "application/vnd.jupyter.widget-view+json": {
       "model_id": "",
       "version_major": 2,
       "version_minor": 0
      },
      "text/plain": [
       "Saving the dataset (0/4 shards):   0%|          | 0/2249698 [00:00<?, ? examples/s]"
      ]
     },
     "metadata": {},
     "output_type": "display_data"
    }
   ],
   "source": [
    "data_tit_bps_hf.save_to_disk('../data/2023/chunked-tit-bps.hf')"
   ]
  },
  {
   "cell_type": "code",
   "execution_count": 23,
   "id": "b2663c65",
   "metadata": {},
   "outputs": [],
   "source": [
    "data_tit_bps_hf = Dataset.load_from_disk('../data/2023/chunked-tit-bps.hf')"
   ]
  },
  {
   "cell_type": "code",
   "execution_count": 24,
   "id": "9e1d8915",
   "metadata": {},
   "outputs": [],
   "source": [
    "data_tit_bps_desc_hf = data_tit_bps_hf.add_column('DESCRIPTION', chunked_descs_exp)"
   ]
  },
  {
   "cell_type": "code",
   "execution_count": 27,
   "id": "2ecbd069",
   "metadata": {},
   "outputs": [],
   "source": [
    "dd = pd.read_csv('../data/2023/train-v2.csv', usecols=['PRODUCT_TYPE_ID'])"
   ]
  },
  {
   "cell_type": "code",
   "execution_count": 29,
   "id": "a5d2fd20",
   "metadata": {},
   "outputs": [],
   "source": [
    "dd = dd.PRODUCT_TYPE_ID.to_list()"
   ]
  },
  {
   "cell_type": "code",
   "execution_count": 37,
   "id": "1968922b",
   "metadata": {},
   "outputs": [
    {
     "data": {
      "text/plain": [
       "{'TITLE': [['ALISHAH Women', 'NP'],\n",
       "  [\"'\", 'NP'],\n",
       "  ['Cotton Ankle Length Leggings Combo', 'NP'],\n",
       "  ['of', 'PP'],\n",
       "  ['2', 'NP'],\n",
       "  ['12 Colors', 'NP']],\n",
       " 'BPS': [[['Made', 'VP'],\n",
       "   ['By', 'PP'],\n",
       "   ['95 % cotton', 'NP'],\n",
       "   ['5 %', 'NP'],\n",
       "   ['Lycra', 'NP'],\n",
       "   ['which', 'NP'],\n",
       "   ['gives', 'VP'],\n",
       "   ['you', 'NP'],\n",
       "   ['4 ways', 'NP'],\n",
       "   ['stretchable comfort', 'NP'],\n",
       "   ['GSM', 'NP'],\n",
       "   ['180 to 190', 'NP']],\n",
       "  [['Come', 'VP'],\n",
       "   ['with', 'PP'],\n",
       "   ['Elasticized Waist Band', 'NP'],\n",
       "   ['Slim Fit', 'NP']],\n",
       "  [['Bubble free fabric', 'NP'],\n",
       "   ['High quality steaching', 'NP'],\n",
       "   ['Bio Wash', 'NP']],\n",
       "  [['Skin-friendly fabric', 'NP']],\n",
       "  [['ANKLE LENGTH LEGGINGS PACK', 'NP'], ['OF', 'PP'], ['2', 'NP']]],\n",
       " 'DESCRIPTION': [[['AISHAH Women', 'NP'],\n",
       "   [\"'\", 'NP'],\n",
       "   ['s', 'VP'],\n",
       "   ['Lycra Cotton Ankel Leggings', 'NP']],\n",
       "  [['Brand', 'NP'], ['ALISHAH Length', 'NP'], ['Ankel Length Leggings', 'NP']],\n",
       "  [['Size Chart Medium', 'NP'],\n",
       "   ['28 to 30 inch', 'NP'],\n",
       "   ['Large', 'NP'],\n",
       "   ['30 to 32 inch', 'NP'],\n",
       "   ['X-Large', 'NP'],\n",
       "   ['32 to 34 inch', 'NP'],\n",
       "   ['2X-Large', 'NP'],\n",
       "   ['34 to 38 inch', 'NP'],\n",
       "   ['The color fade', 'NP'],\n",
       "   ['will not be', 'VP'],\n",
       "   ['there', 'ADVP'],\n",
       "   ['in', 'PP'],\n",
       "   ['washing', 'VP']],\n",
       "  [['This cotton stretch leggings', 'NP'],\n",
       "   ['is designed to provide', 'VP'],\n",
       "   ['absolute comfort and body fit', 'NP']],\n",
       "  [['Pair', 'VP'],\n",
       "   ['it', 'NP'],\n",
       "   ['with', 'PP'],\n",
       "   ['short or long kurta', 'NP'],\n",
       "   ['for', 'PP'],\n",
       "   ['modern look', 'NP']],\n",
       "  [['High', 'ADJP'],\n",
       "   ['on', 'PP'],\n",
       "   ['style , fit and finish', 'NP'],\n",
       "   ['this leggings', 'NP'],\n",
       "   ['is', 'VP'],\n",
       "   ['sure', 'ADJP'],\n",
       "   ['to lend', 'VP'],\n",
       "   ['you', 'NP'],\n",
       "   ['a sophisticated look', 'NP']],\n",
       "  [['Please', 'ADVP'],\n",
       "   ['wash', 'VP'],\n",
       "   ['the dark colors', 'NP'],\n",
       "   ['separately', 'ADVP'],\n",
       "   ['in', 'SBAR'],\n",
       "   ['to improve', 'VP'],\n",
       "   ['the product life', 'NP']],\n",
       "  [['Disclaimer', 'NP'],\n",
       "   ['Product color', 'NP'],\n",
       "   ['may slightly vary', 'VP'],\n",
       "   ['due to', 'PP'],\n",
       "   ['photographic lighting sources', 'NP'],\n",
       "   ['your monitor settings', 'NP']],\n",
       "  [['Please order', 'NP'],\n",
       "   ['according', 'PP'],\n",
       "   ['to', 'PP'],\n",
       "   ['your waist size', 'NP'],\n",
       "   ['mentioned', 'VP'],\n",
       "   ['in', 'PP'],\n",
       "   ['size chart', 'NP']]],\n",
       " 'PRODUCT_TYPE_ID': 2996}"
      ]
     },
     "execution_count": 37,
     "metadata": {},
     "output_type": "execute_result"
    }
   ],
   "source": [
    "data_fin[3]"
   ]
  },
  {
   "cell_type": "code",
   "execution_count": 32,
   "id": "5bcee5f4",
   "metadata": {},
   "outputs": [],
   "source": [
    "data_fin = data_tit_bps_desc_hf.add_column('PRODUCT_TYPE_ID', dd)"
   ]
  },
  {
   "cell_type": "code",
   "execution_count": 33,
   "id": "d17f5390",
   "metadata": {},
   "outputs": [
    {
     "data": {
      "application/vnd.jupyter.widget-view+json": {
       "model_id": "",
       "version_major": 2,
       "version_minor": 0
      },
      "text/plain": [
       "Saving the dataset (0/7 shards):   0%|          | 0/2249698 [00:00<?, ? examples/s]"
      ]
     },
     "metadata": {},
     "output_type": "display_data"
    }
   ],
   "source": [
    "data_fin.save_to_disk('../data/2023/chunked-train.hf')"
   ]
  },
  {
   "cell_type": "code",
   "execution_count": 25,
   "id": "d128d44c",
   "metadata": {},
   "outputs": [
    {
     "data": {
      "application/vnd.jupyter.widget-view+json": {
       "model_id": "",
       "version_major": 2,
       "version_minor": 0
      },
      "text/plain": [
       "Saving the dataset (0/7 shards):   0%|          | 0/2249698 [00:00<?, ? examples/s]"
      ]
     },
     "metadata": {},
     "output_type": "display_data"
    }
   ],
   "source": [
    "data_tit_bps_desc_hf.save_to_disk('../data/2023/chunked-tit-bps-desc.hf')"
   ]
  },
  {
   "cell_type": "code",
   "execution_count": 39,
   "id": "903dab78",
   "metadata": {},
   "outputs": [
    {
     "data": {
      "text/plain": [
       "{'TITLE': [['ArtzFolio Tulip Flowers Blackout Curtain', 'NP'],\n",
       "  ['for', 'PP'],\n",
       "  ['Door , Window and Room', 'NP'],\n",
       "  ['Eyelets', 'NP'],\n",
       "  ['Tie Back', 'NP'],\n",
       "  ['Canvas Fabric', 'NP'],\n",
       "  ['Width 4.5feet', 'NP'],\n",
       "  ['54inch', 'NP'],\n",
       "  ['Height', 'NP'],\n",
       "  ['5 feet', 'NP'],\n",
       "  ['60 inch', 'NP'],\n",
       "  ['Set', 'NP'],\n",
       "  ['of', 'PP'],\n",
       "  ['2 pieces', 'NP']],\n",
       " 'BPS': [[['LUXURIOUS and APPEALING', 'NP'],\n",
       "   ['Beautiful custom-made curtains', 'NP'],\n",
       "   ['to decorate', 'VP'],\n",
       "   ['any home or office', 'NP'],\n",
       "   ['Includes', 'VP'],\n",
       "   ['inbuilt tieback', 'NP'],\n",
       "   ['to hold', 'VP'],\n",
       "   ['the curtain', 'NP'],\n",
       "   ['Completely finished', 'VP'],\n",
       "   ['ready to hang', 'VP'],\n",
       "   ['on', 'PP'],\n",
       "   ['walls and windows', 'NP']],\n",
       "  [['MATERIAL', 'NP'],\n",
       "   ['Luxurious and versatile fabric', 'NP'],\n",
       "   ['with', 'PP'],\n",
       "   ['a natural finish', 'NP'],\n",
       "   ['High colour fastness', 'NP'],\n",
       "   ['State-of-the-art digital printing', 'NP'],\n",
       "   ['ensures', 'VP'],\n",
       "   ['colour consistency', 'NP'],\n",
       "   ['prevents', 'VP'],\n",
       "   ['any fading', 'NP'],\n",
       "   ['Eyelets', 'NP'],\n",
       "   ['Cotton Canvas', 'NP'],\n",
       "   ['Width 4.5feet', 'NP'],\n",
       "   ['54inch', 'NP'],\n",
       "   ['Multicolour', 'NP'],\n",
       "   ['PACKAGE', 'NP'],\n",
       "   ['2 Room Curtains Eyelets', 'NP'],\n",
       "   ['SIZE', 'NP'],\n",
       "   ['Height', 'NP'],\n",
       "   ['5 feet', 'NP'],\n",
       "   ['60 inch', 'NP'],\n",
       "   ['SET', 'NP'],\n",
       "   ['OF', 'PP'],\n",
       "   ['2 pieces', 'NP']],\n",
       "  [['BLACKOUT CURTAIN', 'NP'],\n",
       "   ['100 %', 'NP'],\n",
       "   ['opaque', 'ADJP'],\n",
       "   ['heavy premium cotton canvas fabric', 'NP'],\n",
       "   ['Tight knitted', 'NP'],\n",
       "   ['long life', 'NP'],\n",
       "   ['durable fabric', 'NP'],\n",
       "   ['Printing', 'VP'],\n",
       "   ['only', 'ADVP'],\n",
       "   ['on', 'PP'],\n",
       "   ['front side', 'NP'],\n",
       "   ['with', 'PP'],\n",
       "   ['a plain colour back side', 'NP']],\n",
       "  [['MADE', 'VP'],\n",
       "   ['TO', 'PP'],\n",
       "   ['PERFECTION', 'NP'],\n",
       "   ['Large eyelets', 'NP'],\n",
       "   ['at', 'PP'],\n",
       "   ['the top', 'NP'],\n",
       "   ['to put', 'VP'],\n",
       "   ['hanging hooks', 'NP'],\n",
       "   ['Perfectly tailored seams', 'NP'],\n",
       "   ['for', 'PP'],\n",
       "   ['durability', 'NP'],\n",
       "   ['Refined stitching', 'NP'],\n",
       "   ['with', 'PP'],\n",
       "   ['a matching thread color', 'NP']],\n",
       "  [['QUALITY', 'NP'],\n",
       "   ['ASSURED', 'VP'],\n",
       "   ['Gentle', 'NP'],\n",
       "   ['wash', 'VP'],\n",
       "   ['with', 'PP'],\n",
       "   ['similar colors', 'NP'],\n",
       "   ['in', 'PP'],\n",
       "   ['cold water', 'NP'],\n",
       "   ['Avoid', 'VP'],\n",
       "   ['direct sunlight', 'NP'],\n",
       "   ['to prevent', 'VP'],\n",
       "   ['fading', 'NP'],\n",
       "   ['Dispatched', 'VP'],\n",
       "   ['after', 'PP'],\n",
       "   ['MULTIPLE QUALITY CHECKS', 'NP']]]}"
      ]
     },
     "execution_count": 39,
     "metadata": {},
     "output_type": "execute_result"
    }
   ],
   "source": [
    "data_tit_bps_hf[0]"
   ]
  },
  {
   "cell_type": "code",
   "execution_count": null,
   "id": "81d3fa76",
   "metadata": {},
   "outputs": [],
   "source": [
    "dataset = {\n",
    "  'title': chunked_titles,\n",
    "  \n",
    "}"
   ]
  }
 ],
 "metadata": {
  "kernelspec": {
   "display_name": "Python 3 (ipykernel)",
   "language": "python",
   "name": "python3"
  },
  "language_info": {
   "codemirror_mode": {
    "name": "ipython",
    "version": 3
   },
   "file_extension": ".py",
   "mimetype": "text/x-python",
   "name": "python",
   "nbconvert_exporter": "python",
   "pygments_lexer": "ipython3",
   "version": "3.8.16"
  }
 },
 "nbformat": 4,
 "nbformat_minor": 5
}
